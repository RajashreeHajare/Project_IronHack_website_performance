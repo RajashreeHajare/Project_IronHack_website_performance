{
 "cells": [
  {
   "cell_type": "code",
   "execution_count": 1,
   "id": "e121a81e-4d17-460c-88da-edcc941db60c",
   "metadata": {
    "tags": []
   },
   "outputs": [],
   "source": [
    "# Project initiation"
   ]
  },
  {
   "cell_type": "code",
   "execution_count": null,
   "id": "1337e54f-6fbd-473f-ad84-3eab37b8e779",
   "metadata": {},
   "outputs": [],
   "source": []
  }
 ],
 "metadata": {
  "kernelspec": {
   "display_name": "web_perf",
   "language": "python",
   "name": "web_perf"
  },
  "language_info": {
   "codemirror_mode": {
    "name": "ipython",
    "version": 3
   },
   "file_extension": ".py",
   "mimetype": "text/x-python",
   "name": "python",
   "nbconvert_exporter": "python",
   "pygments_lexer": "ipython3",
   "version": "3.11.5"
  }
 },
 "nbformat": 4,
 "nbformat_minor": 5
}
